{
  "cells": [
      {
   "metadata": {},
   "cell_type": "markdown",
   "source": [
    "# DBSCAN Algorithm\n",
    "\n",
    "DBSCAN (Density-Based Spatial Clustering of Applications with Noise) is a powerful clustering algorithm where clusters can be any shape, not just round, and their sizes can be different.\n",
    "\n",
    "You see, in an algorithm like K-Means, every single datapoint is forced into a cluster, no matter how far away or out of place it is. DBSCAN thinks differently. It believes that for a point to be part of a cluster, it must be in a \"dense\" or crowded neighborhood.\n",
    "\n",
    "DBSCAN classifies every point into one of three types:\n",
    "\n",
    "*   **Core Point:** A point in the heart of a dense cluster.\n",
    "*   **Border Point:** A point on the edge of a dense cluster.\n",
    "*   **Outlier (Noise):** A point that doesn't belong to any dense cluster.\n",
    "\n",
    "---\n",
    "\n",
    " ![](assets/core_border_outlier.png)\n",
    "\n",
    "---\n",
    "\n",
    "To decide which type each point is, DBSCAN uses two simple parameters:\n",
    "\n",
    "*   **`epsilon` (ε):** A distance or radius. This defines the \"neighborhood\" around each point.\n",
    "*   **`min_points`:** The minimum number of points required to form a dense region.\n",
    "\n",
    "Now, we can define the rules for classifying each point:\n",
    "\n",
    "*   A point is a **Core Point** if it has at least `min_points` neighbors (including itself) within its `epsilon` radius.\n",
    "*   A point is a **Border Point** if it has fewer than `min_points` neighbors, but it is close enough to be a neighbor of a **Core Point**.\n",
    "*   If a point is neither a Core nor a Border point, it is considered an **Outlier (Noise)**.\n",
    "\n",
    "---\n",
    "\n",
    "![](assets/recognizing_outliers_borders_cores.png)\n",
    "\n",
    "---\n",
    "\n",
    "Finally, a cluster is formed by connecting Core points that are neighbors of each other. Any Border point that is a neighbor of one of these Core points becomes part of that same cluster. Outliers, belonging to no cluster, are left alone. no clusterings for them!\n",
    "\n",
    "Enough theory! Let's dive into the code to see it better."
   ],
   "id": "ea098bcde58531fe"
  },
  {
   "metadata": {},
   "cell_type": "markdown",
   "source": [
    "### Step 1: Import Libraries and Generate Data\n",
    "\n",
    "First, we'll import the necessary tools and create our dataset. We'll generate 200 data points shaped like two interleaving crescent moons and add some random noise to represent outliers."
   ],
   "id": "5fbb695486b0d61"
  },
  {
   "metadata": {},
   "cell_type": "code",
   "source": [
    "import numpy as np\n",
    "import pandas as pd\n",
    "from sklearn.datasets import make_moons\n",
    "\n",
    "# n_samples: The total number of points to generate.\n",
    "# noise: The standard deviation of Gaussian noise added to the data.\n",
    "# random_state: Ensures we get the same 'random' points every time we run the code.\n",
    "X, y = make_moons(n_samples=1000, noise=0.09)\n",
    "\n",
    "df = pd.DataFrame(X, columns=['feature1', 'feature2'])\n",
    "\n",
    "df.head()"
   ],
   "id": "14a4b3571f58e9d0",
   "outputs": [],
   "execution_count": null
  },
  {
   "metadata": {},
   "cell_type": "markdown",
   "source": [
    "### Step 2: Visualize the Raw Data\n",
    "\n",
    "Before we do any clustering, let's look at our data. This helps us understand the challenge. You can clearly see the two \"moon\" shapes that a simple circular algorithm like K-Means would struggle with."
   ],
   "id": "50b75d364b27fcf2"
  },
  {
   "metadata": {},
   "cell_type": "code",
   "source": [
    "import matplotlib.pyplot as plt\n",
    "\n",
    "plt.figure(figsize=(8, 6))\n",
    "plt.scatter(df['feature1'], df['feature2'], c='gray')\n",
    "plt.title('Raw, Unclustered \"Moons\" Data', fontsize=16)\n",
    "plt.xlabel('Feature 1')\n",
    "plt.ylabel('Feature 2')\n",
    "plt.show()"
   ],
   "id": "72608509dc399a0d",
   "outputs": [],
   "execution_count": null
  },
  {
   "metadata": {},
   "cell_type": "markdown",
   "source": [
    "### Step 3: Set Up and Run the DBSCAN Algorithm\n",
    "\n",
    "Now, we create an instance of the `DBSCAN` model and fit it to our data. The most important part is choosing the `eps` (epsilon) and `min_samples` parameters. Finding the best values often requires some experimentation.\n",
    "\n",
    "*   `eps=0.2`: We'll define the neighborhood radius as 0.2.\n",
    "*   `min_samples=5`: We'll say a point needs at least 5 neighbors to be a Core point."
   ],
   "id": "aa15d20deace9e2f"
  },
  {
   "metadata": {},
   "cell_type": "code",
   "source": [
    "# eps: The maximum distance between two samples for one to be considered as in the neighborhood of the other.\n",
    "# min_samples: The number of samples in a neighborhood for a point to be considered as a core point.\n",
    "\n",
    "from sklearn.cluster import DBSCAN\n",
    "dbscan = DBSCAN(eps=0.1, min_samples=5)\n",
    "\n",
    "# Fit the model to our data\n",
    "dbscan.fit(df)"
   ],
   "id": "fd5c78a7b1d7198c",
   "outputs": [],
   "execution_count": null
  },
  {
   "metadata": {},
   "cell_type": "markdown",
   "source": [
    "### Step 4: Analyze the Clustering Results\n",
    "\n",
    "After fitting, the results are stored in the model. The most important attribute is `labels_`, where each point is assigned a cluster ID. DBSCAN uses **-1** to label all the points it considers **outliers (noise)**."
   ],
   "id": "8a77d9fa3ab62847"
  },
  {
   "metadata": {},
   "cell_type": "code",
   "source": [
    "labels = dbscan.labels_\n",
    "df['cluster'] = labels\n",
    "\n",
    "n_clusters_ = len(set(labels)) - (1 if -1 in labels else 0)\n",
    "n_noise_ = list(labels).count(-1)\n",
    "\n",
    "print(f\"Estimated number of clusters: {n_clusters_}\")\n",
    "print(f\"Estimated number of noise points: {n_noise_}\")\n",
    "\n",
    "df.head()"
   ],
   "id": "70e515fc1d8be533",
   "outputs": [],
   "execution_count": null
  },
  {
   "metadata": {},
   "cell_type": "markdown",
   "source": [
    "### Step 5: Visualize the Final DBSCAN Clusters\n",
    "\n",
    "This is the final and most revealing step. We'll plot the data again, but this time we will color the points according to the cluster they belong to. We will make the noise points small and black to show that they don't belong to any group.\n",
    "\n",
    "We can also highlight the **Core points** to see the \"hearts\" of the clusters that DBSCAN identified."
   ],
   "id": "3c421f129d340507"
  },
  {
   "metadata": {},
   "cell_type": "code",
   "source": [
    "plt.figure(figsize=(10, 8))\n",
    "\n",
    "unique_labels = set(labels)\n",
    "\n",
    "# Define colors for the clusters\n",
    "colors = [plt.cm.Spectral(each) for each in np.linspace(0, 1, len(unique_labels))]\n",
    "\n",
    "for k, col in zip(unique_labels, colors):\n",
    "    if k == -1:\n",
    "        col = [0, 0, 0, 1]\n",
    "\n",
    "    class_member_mask = (labels == k)\n",
    "\n",
    "    xy = X[class_member_mask]\n",
    "    plt.plot(xy[:, 0], xy[:, 1], 'o', markerfacecolor=tuple(col),\n",
    "             markeredgecolor='k', markersize=8)\n",
    "\n",
    "plt.title(f'DBSCAN Clustering | Clusters: {n_clusters_}', fontsize=16)\n",
    "plt.xlabel('Feature 1')\n",
    "plt.ylabel('Feature 2')\n",
    "plt.show()"
   ],
   "id": "799dafc5489a4a91",
   "outputs": [],
   "execution_count": null
  }
  ],
  "metadata": {
    "kernelspec": {
     "display_name": "Python 3 (ipykernel)",
     "language": "python",
     "name": "python3"
    },
    "language_info": {
   "codemirror_mode": {
    "name": "ipython",
    "version": 3
   },
   "file_extension": ".py",
   "mimetype": "text/x-python",
   "name": "python",
   "nbconvert_exporter": "python",
   "pygments_lexer": "ipython3",
   "version": "3.13.7"
  }
 },
  "nbformat": 4,
  "nbformat_minor": 5
}