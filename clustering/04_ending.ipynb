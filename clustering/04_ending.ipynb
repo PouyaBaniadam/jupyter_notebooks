{
 "cells": [
  {
   "metadata": {},
   "cell_type": "markdown",
   "source": [
    "### Conclusion\n",
    "\n",
    "This report provided a comprehensive introduction to the principles and practices of clustering, a fundamental task in unsupervised machine learning. The primary objective of clustering—to group data by maximizing inter-cluster distance and minimizing intra-cluster distance—was established as the core concept.\n",
    "\n",
    "We explored three foundational algorithms, each representing a different approach to identifying structure in unlabeled data:\n",
    "\n",
    "1.  **K-Means:** A fast, centroid-based method ideal for identifying simple, spherical clusters.\n",
    "2.  **Hierarchical Clustering:** A connectivity-based method that builds a complete hierarchy of clusters, visualized through a dendrogram.\n",
    "3.  **DBSCAN:** A density-based method with the unique ability to find arbitrarily shaped clusters and effectively identify noise and outliers.\n",
    "\n",
    "\n",
    "---\n",
    "### Acknowledgements\n",
    "\n",
    "I would like to extend my gratitude to **_jadi mirmirani_**, the Tutor of **_Maktabkooneh_** who helped me understand the fundumentals of **_clustering_**.\n",
    "\n",
    "A huge thanks to Google's Gemini for its assistance in structuring the content, clarifying concepts and providing feedback throughout the preparation of this report.\n",
    "\n",
    "---\n",
    "\n",
    "### References\n",
    "\n",
    "The theoretical concepts and practical code examples in this report were primarily adapted from the following educational resources:\n",
    "\n",
    "1.  Mirmirani, J. (n.d.). [*آموزش یادگیری ماشین با پایتون (Machine Learning with Python)*](https://maktabkhooneh.org/course/یادگیری-ماشین-پایتون-mk1318) [Online Course]. Maktabkhooneh.\n",
    "2.  Mirmirani, J. (n.d.). [*machine_learning_with_python_jadi*](https://github.com/jadijadi/machine_learning_with_python_jadi) [Source Code Repository]. GitHub.\n",
    "\n",
    "---\n",
    "**Prepared for:**\n",
    "\n",
    "Dr. Ali Amiri\n",
    "\n",
    "**Prepared by:**\n",
    "\n",
    "Pouya Baniadam\n",
    "\n",
    "(Master Software Engineering at Zanjan university)\n",
    "\n",
    "**Course:**\n",
    "\n",
    "**Machine learning**\n",
    "\n",
    "**Date:**\n",
    "\n",
    "November 1, 2025"
   ],
   "id": "cab04fa8029ea6f0"
  },
  {
   "metadata": {},
   "cell_type": "code",
   "source": "",
   "id": "74b2995d79f6afed",
   "outputs": [],
   "execution_count": null
  }
 ],
 "metadata": {
  "kernelspec": {
   "display_name": "Python 3 (ipykernel)",
   "language": "python",
   "name": "python3"
  },
  "language_info": {
   "codemirror_mode": {
    "name": "ipython",
    "version": 3
   },
   "file_extension": ".py",
   "mimetype": "text/x-python",
   "name": "python",
   "nbconvert_exporter": "python",
   "pygments_lexer": "ipython3",
   "version": "3.13.7"
  }
 },
 "nbformat": 4,
 "nbformat_minor": 5
}
